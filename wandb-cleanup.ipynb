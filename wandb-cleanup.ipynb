{
 "cells": [
  {
   "cell_type": "code",
   "execution_count": null,
   "id": "compressed-correction",
   "metadata": {},
   "outputs": [],
   "source": [
    "#https://community.wandb.ai/t/using-the-python-api-to-delete-models-with-no-tag-minimal/1498\n",
    "\n",
    "\"\"\"\n",
    "deletes all models that do not have a tag attached\n",
    "\n",
    "by default this means wandb will delete all but the \"latest\" or \"best\" models\n",
    "\n",
    "set dry_run == False to delete...\n",
    "\"\"\"\n",
    "\n",
    "import wandb\n",
    "\n",
    "dry_run = True\n",
    "#dry_run = False\n",
    "api = wandb.Api(overrides={\"project\": \"vicreg-synth1b1-pqmfs\", \"entity\": \"turian\"})\n",
    "project = api.project('vicreg-synth1b1-pqmfs')\n",
    "\n",
    "\n",
    "for artifact_type in project.artifacts_types():\n",
    "    for artifact_collection in artifact_type.collections():\n",
    "        for version in api.artifact_versions(artifact_type.type, artifact_collection.name):\n",
    "            if artifact_type.type == 'model':\n",
    "                if len(version.aliases) > 0:\n",
    "                    # print out the name of the one we are keeping\n",
    "                    print(f'KEEPING {version.name}')\n",
    "                else:\n",
    "                    print(f'DELETING {version.name}')\n",
    "                    if not dry_run:\n",
    "                        version.delete()"
   ]
  },
  {
   "cell_type": "code",
   "execution_count": null,
   "id": "conservative-tension",
   "metadata": {},
   "outputs": [],
   "source": []
  }
 ],
 "metadata": {
  "kernelspec": {
   "display_name": "Python 3",
   "language": "python",
   "name": "python3"
  },
  "language_info": {
   "codemirror_mode": {
    "name": "ipython",
    "version": 3
   },
   "file_extension": ".py",
   "mimetype": "text/x-python",
   "name": "python",
   "nbconvert_exporter": "python",
   "pygments_lexer": "ipython3",
   "version": "3.8.10"
  }
 },
 "nbformat": 4,
 "nbformat_minor": 5
}
